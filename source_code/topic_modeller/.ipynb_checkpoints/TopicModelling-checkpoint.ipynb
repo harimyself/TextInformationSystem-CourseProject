{
 "cells": [
  {
   "cell_type": "markdown",
   "metadata": {},
   "source": [
    "# Faculty Bios Topic modelling\n",
    "\n",
    "This notebook shows the code for the topic model that we have built based on the faculty bios data provided as part of https://github.com/CS410Fall2020/ExpertSearch/tree/master/data/compiled_bios\n",
    "\n",
    "We have use gensim library (https://pypi.org/project/gensim/) for topic modelling. We have also used nltk (https://www.nltk.org/) for text cleaning and preprocessing"
   ]
  },
  {
   "cell_type": "code",
   "execution_count": 10,
   "metadata": {},
   "outputs": [],
   "source": [
    "from nltk.corpus import stopwords as sw\n",
    "from nltk.tokenize import word_tokenize\n",
    "from nltk.stem.porter import PorterStemmer;\n",
    "import nltk"
   ]
  },
  {
   "cell_type": "markdown",
   "metadata": {},
   "source": [
    "#### Loading the appropriate models for stopwords removal and stemming"
   ]
  },
  {
   "cell_type": "code",
   "execution_count": 11,
   "metadata": {},
   "outputs": [],
   "source": [
    "\n",
    "stopwords = set(sw.words('english'))\n",
    "stemmer = PorterStemmer()"
   ]
  },
  {
   "cell_type": "markdown",
   "metadata": {},
   "source": [
    "#### Loading the faculty bios pages"
   ]
  },
  {
   "cell_type": "code",
   "execution_count": 12,
   "metadata": {},
   "outputs": [
    {
     "data": {
      "text/plain": [
       "6521"
      ]
     },
     "execution_count": 12,
     "metadata": {},
     "output_type": "execute_result"
    }
   ],
   "source": [
    "positive_data = []\n",
    "with open('../data/classificationData/positive.txt', 'r') as f:\n",
    "    for line in f:\n",
    "        data = line.split(\"#####\")\n",
    "        positive_data.append(data[0].strip())\n",
    "\n",
    "len(positive_data)"
   ]
  },
  {
   "cell_type": "markdown",
   "metadata": {},
   "source": [
    "#### Using nltk.wordnet to do Lemmatization"
   ]
  },
  {
   "cell_type": "code",
   "execution_count": 13,
   "metadata": {},
   "outputs": [
    {
     "name": "stderr",
     "output_type": "stream",
     "text": [
      "[nltk_data] Downloading package wordnet to /Users/pushpit/nltk_data...\n",
      "[nltk_data]   Package wordnet is already up-to-date!\n"
     ]
    }
   ],
   "source": [
    "nltk.download('wordnet')\n",
    "from nltk.corpus import wordnet as wn\n",
    "def get_lemma(word):\n",
    "    lemma = wn.morphy(word)\n",
    "    return word.lower() if lemma is None else lemma"
   ]
  },
  {
   "cell_type": "markdown",
   "metadata": {},
   "source": [
    "#### Preprocessing data to do topic modelling\n",
    "1. Tokenize --> using nltk word tokenizer\n",
    "2. Remove stopwords and get lemmatized form for the word. Also filtered all the word with less than 4 chracters"
   ]
  },
  {
   "cell_type": "code",
   "execution_count": 14,
   "metadata": {},
   "outputs": [
    {
     "data": {
      "text/plain": [
       "[<function str.lower()>,\n",
       " <function str.lower()>,\n",
       " <function str.lower()>,\n",
       " 'professor',\n",
       " <function str.lower()>,\n",
       " <function str.lower()>,\n",
       " 'scholar',\n",
       " 'depart',\n",
       " <function str.lower()>,\n",
       " <function str.lower()>,\n",
       " <function str.lower()>,\n",
       " <function str.lower()>,\n",
       " 'urbana',\n",
       " 'champaign',\n",
       " 'urbana',\n",
       " <function str.lower()>,\n",
       " <function str.lower()>,\n",
       " <function str.lower()>,\n",
       " <function str.lower()>,\n",
       " 'ph.d.',\n",
       " <function str.lower()>,\n",
       " 'michigan',\n",
       " 'arbor',\n",
       " 'professor',\n",
       " <function str.lower()>,\n",
       " 'professor',\n",
       " <function str.lower()>,\n",
       " 'virginia',\n",
       " 'august',\n",
       " 'august',\n",
       " <function str.lower()>,\n",
       " <function str.lower()>,\n",
       " 'urbana',\n",
       " 'champaign',\n",
       " <function str.lower()>,\n",
       " 'professor',\n",
       " <function str.lower()>,\n",
       " <function str.lower()>,\n",
       " 'professor',\n",
       " 'interest',\n",
       " <function str.lower()>,\n",
       " 'system',\n",
       " <function str.lower()>,\n",
       " 'system',\n",
       " 'network',\n",
       " 'sensor',\n",
       " 'network',\n",
       " <function str.lower()>,\n",
       " 'system',\n",
       " 'embed',\n",
       " <function str.lower()>,\n",
       " 'system',\n",
       " <function str.lower()>,\n",
       " 'interest',\n",
       " 'develop',\n",
       " <function str.lower()>,\n",
       " <function str.lower()>,\n",
       " 'support',\n",
       " <function str.lower()>,\n",
       " 'abstract',\n",
       " 'predict',\n",
       " <function str.lower()>,\n",
       " 'system',\n",
       " <function str.lower()>,\n",
       " <function str.lower()>,\n",
       " <function str.lower()>,\n",
       " 'complex',\n",
       " <function str.lower()>,\n",
       " <function str.lower()>,\n",
       " <function str.lower()>,\n",
       " 'sensor',\n",
       " 'network',\n",
       " <function str.lower()>,\n",
       " 'server',\n",
       " 'transport',\n",
       " 'system',\n",
       " <function str.lower()>,\n",
       " <function str.lower()>,\n",
       " 'green',\n",
       " 'brief',\n",
       " <function str.lower()>,\n",
       " 'research',\n",
       " <function str.lower()>,\n",
       " 'physic',\n",
       " <function str.lower()>,\n",
       " 'group',\n",
       " 'paper',\n",
       " 'profession',\n",
       " <function str.lower()>,\n",
       " 'teach',\n",
       " <function str.lower()>,\n",
       " <function str.lower()>,\n",
       " 'system',\n",
       " 'system',\n",
       " <function str.lower()>,\n",
       " <function str.lower()>,\n",
       " 'system',\n",
       " <function str.lower()>,\n",
       " 'network',\n",
       " <function str.lower()>,\n",
       " 'embed',\n",
       " 'network',\n",
       " 'e-mail',\n",
       " 'letter',\n",
       " 'thank',\n",
       " 'visit',\n",
       " <function str.lower()>]"
      ]
     },
     "execution_count": 14,
     "metadata": {},
     "output_type": "execute_result"
    }
   ],
   "source": [
    "def preprocess_data_for_topic_modeling(text):\n",
    "    text_tokens = word_tokenize(text)\n",
    "    processed_tokens = [get_lemma(word) for word in text_tokens if not word in stopwords and len(word) > 4]\n",
    "    return processed_tokens\n",
    "\n",
    "cleaned_data = [preprocess_data_for_topic_modeling(data) for data in positive_data]\n",
    "cleaned_data[0]"
   ]
  },
  {
   "cell_type": "markdown",
   "metadata": {},
   "source": [
    "# Topic Modeling\n",
    "\n",
    "Using gene"
   ]
  },
  {
   "cell_type": "code",
   "execution_count": 19,
   "metadata": {},
   "outputs": [],
   "source": [
    "from gensim import corpora\n",
    "dictionary = corpora.Dictionary(cleaned_data)\n",
    "corpus = [dictionary.doc2bow(line) for line in cleaned_data]\n",
    "\n",
    "import pickle\n",
    "pickle.dump(corpus, open('expert_corpus.pkl', 'wb'))\n",
    "dictionary.save('dictionary.gensim')"
   ]
  },
  {
   "cell_type": "code",
   "execution_count": 21,
   "metadata": {},
   "outputs": [],
   "source": [
    "import gensim\n",
    "num_of_topics = 10\n",
    "lda_topic_model = gensim.models.ldamodel.LdaModel(corpus, num_topics=num_of_topics, id2word=dictionary, passes=20)\n",
    "lda_topic_model.save('expert_topic_model_10.gensim')"
   ]
  },
  {
   "cell_type": "code",
   "execution_count": 24,
   "metadata": {},
   "outputs": [
    {
     "data": {
      "text/plain": [
       "[(0,\n",
       "  '0.019*\"graphics\" + 0.018*\"paper\" + 0.015*\"image\" + 0.014*\"siggraph\" + 0.010*\"computer\" + 0.010*\"video\" + 0.009*\"rendering\" + 0.009*\"vision\" + 0.009*\"shape\" + 0.008*\"light\"'),\n",
       " (1,\n",
       "  '0.033*\"conference\" + 0.027*\"international\" + 0.018*\"systems\" + 0.014*\"proceedings\" + 0.013*\"networks\" + 0.013*\"computing\" + 0.012*\"network\" + 0.009*\"security\" + 0.009*\"computer\" + 0.009*\"workshop\"'),\n",
       " (2,\n",
       "  '0.015*\"translation\" + 0.012*\"speech\" + 0.010*\"blandford\" + 0.010*\"rogers\" + 0.009*\"nadia\" + 0.008*\"article\" + 0.008*\"yvonne\" + 0.006*\"philipp\" + 0.005*\"koehn\" + 0.005*\"bianchi-berthouze\"'),\n",
       " (3,\n",
       "  '0.022*\"research\" + 0.019*\"function\" + 0.019*\"study\" + 0.017*\"details\" + 0.014*\"state\" + 0.013*\"liverpool\" + 0.012*\"university\" + 0.011*\"return\" + 0.011*\"postgraduate\" + 0.010*\"about\"'),\n",
       " (4,\n",
       "  '0.014*\"programming\" + 0.013*\"system\" + 0.011*\"architecture\" + 0.011*\"software\" + 0.010*\"memory\" + 0.009*\"parallel\" + 0.009*\"paper\" + 0.008*\"systems\" + 0.008*\"design\" + 0.007*\"performance\"'),\n",
       " (5,\n",
       "  '0.017*\"electrical\" + 0.014*\"engineering\" + 0.012*\"power\" + 0.009*\"control\" + 0.009*\"signal\" + 0.009*\"design\" + 0.009*\"processing\" + 0.007*\"energy\" + 0.007*\"conference\" + 0.006*\"systems\"'),\n",
       " (6,\n",
       "  '0.015*\"learning\" + 0.008*\"conference\" + 0.008*\"machine\" + 0.007*\"model\" + 0.007*\"paper\" + 0.007*\"using\" + 0.005*\"system\" + 0.005*\"analysis\" + 0.005*\"research\" + 0.005*\"language\"'),\n",
       " (7,\n",
       "  '0.030*\"research\" + 0.026*\"university\" + 0.025*\"computer\" + 0.024*\"science\" + 0.018*\"engineering\" + 0.013*\"professor\" + 0.009*\"department\" + 0.009*\"information\" + 0.009*\"award\" + 0.008*\"student\"'),\n",
       " (8,\n",
       "  '0.016*\"theory\" + 0.012*\"algorithms\" + 0.011*\"algorithm\" + 0.009*\"graph\" + 0.008*\"complexity\" + 0.008*\"science\" + 0.007*\"computation\" + 0.006*\"journal\" + 0.006*\"mathematics\" + 0.006*\"computing\"'),\n",
       " (9,\n",
       "  '0.008*\"guohong\" + 0.008*\"ghosh\" + 0.008*\"patrick\" + 0.008*\"veeravalli\" + 0.008*\"thomas\" + 0.007*\"laporta\" + 0.007*\"mcdaniel\" + 0.005*\"jaeger\" + 0.005*\"sencun\" + 0.005*\"trent\"')]"
      ]
     },
     "execution_count": 24,
     "metadata": {},
     "output_type": "execute_result"
    }
   ],
   "source": [
    "experts_topics = lda_topic_model.print_topics(num_words=10)\n",
    "experts_topics"
   ]
  },
  {
   "cell_type": "code",
   "execution_count": null,
   "metadata": {},
   "outputs": [],
   "source": []
  }
 ],
 "metadata": {
  "kernelspec": {
   "display_name": "Python 3",
   "language": "python",
   "name": "python3"
  },
  "language_info": {
   "codemirror_mode": {
    "name": "ipython",
    "version": 3
   },
   "file_extension": ".py",
   "mimetype": "text/x-python",
   "name": "python",
   "nbconvert_exporter": "python",
   "pygments_lexer": "ipython3",
   "version": "3.8.5"
  }
 },
 "nbformat": 4,
 "nbformat_minor": 4
}
