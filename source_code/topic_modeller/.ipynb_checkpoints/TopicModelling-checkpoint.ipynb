{
 "cells": [
  {
   "cell_type": "code",
   "execution_count": 3,
   "metadata": {},
   "outputs": [],
   "source": [
    "from nltk.corpus import stopwords as sw\n",
    "from nltk.tokenize import word_tokenize\n",
    "from nltk.stem.porter import PorterStemmer;"
   ]
  },
  {
   "cell_type": "code",
   "execution_count": 4,
   "metadata": {},
   "outputs": [],
   "source": [
    "# https://towardsdatascience.com/topic-modelling-in-python-with-nltk-and-gensim-4ef03213cd21\n",
    "\n",
    "stopwords = set(sw.words('english'))\n",
    "stemmer = PorterStemmer()"
   ]
  },
  {
   "cell_type": "code",
   "execution_count": 5,
   "metadata": {},
   "outputs": [
    {
     "data": {
      "text/plain": [
       "6521"
      ]
     },
     "execution_count": 5,
     "metadata": {},
     "output_type": "execute_result"
    }
   ],
   "source": [
    "positive_data = []\n",
    "with open('/Users/pushpit/Documents/github/CS410_TIS/ExpertSearch/hari_data/positive.txt', 'r') as f:\n",
    "    for line in f:\n",
    "        data = line.split(\"#####\")\n",
    "        positive_data.append(data[0].strip())\n",
    "\n",
    "len(positive_data)"
   ]
  },
  {
   "cell_type": "code",
   "execution_count": 16,
   "metadata": {},
   "outputs": [
    {
     "name": "stderr",
     "output_type": "stream",
     "text": [
      "[nltk_data] Downloading package wordnet to /Users/pushpit/nltk_data...\n",
      "[nltk_data]   Package wordnet is already up-to-date!\n"
     ]
    }
   ],
   "source": [
    "import nltk\n",
    "nltk.download('wordnet')\n",
    "from nltk.corpus import wordnet as wn\n",
    "def get_lemma(word):\n",
    "    lemma = wn.morphy(word)\n",
    "    if lemma is None:\n",
    "        return word.lower()\n",
    "    else:\n",
    "        return lemma\n",
    "    \n",
    "def prepare_data_for_topic_modeling(text):\n",
    "    text_tokens = word_tokenize(text)\n",
    "    tokens_without_sw = [get_lemma(word) for word in text_tokens if not word in stopwords and len(word) > 4]\n",
    "    return tokens_without_sw\n",
    "\n",
    "cleaned_data = [prepare_data_for_topic_modeling(data) for data in positive_data]"
   ]
  },
  {
   "cell_type": "code",
   "execution_count": 17,
   "metadata": {},
   "outputs": [
    {
     "data": {
      "text/plain": [
       "6521"
      ]
     },
     "execution_count": 17,
     "metadata": {},
     "output_type": "execute_result"
    }
   ],
   "source": [
    "len(cleaned_data)"
   ]
  },
  {
   "cell_type": "code",
   "execution_count": 18,
   "metadata": {},
   "outputs": [
    {
     "data": {
      "text/plain": [
       "['tarek',\n",
       " 'tarek',\n",
       " 'abdelzaher',\n",
       " 'professor',\n",
       " 'willett',\n",
       " 'faculty',\n",
       " 'scholar',\n",
       " 'department',\n",
       " 'computer',\n",
       " 'science',\n",
       " 'university',\n",
       " 'illinois',\n",
       " 'urbana',\n",
       " 'champaign',\n",
       " 'urbana',\n",
       " '61801',\n",
       " '265-6793',\n",
       " '244-6500',\n",
       " 'receive',\n",
       " 'ph.d.',\n",
       " 'university',\n",
       " 'michigan',\n",
       " 'arbor',\n",
       " 'professor',\n",
       " 'asistant',\n",
       " 'professor',\n",
       " 'university',\n",
       " 'virginia',\n",
       " 'august',\n",
       " 'august',\n",
       " 'join',\n",
       " 'university',\n",
       " 'illinois',\n",
       " 'urbana',\n",
       " 'champaign',\n",
       " 'associate',\n",
       " 'professor',\n",
       " 'tenure',\n",
       " 'become',\n",
       " 'professor',\n",
       " 'interest',\n",
       " 'primarily',\n",
       " 'system',\n",
       " 'include',\n",
       " 'operate',\n",
       " 'system',\n",
       " 'network',\n",
       " 'sensor',\n",
       " 'network',\n",
       " 'distribute',\n",
       " 'system',\n",
       " 'embed',\n",
       " 'real-time',\n",
       " 'system',\n",
       " 'especially',\n",
       " 'interest',\n",
       " 'developing',\n",
       " 'theory',\n",
       " 'architectural',\n",
       " 'support',\n",
       " 'computing',\n",
       " 'abstraction',\n",
       " 'predictability',\n",
       " 'software',\n",
       " 'system',\n",
       " 'motivate',\n",
       " 'increase',\n",
       " 'software',\n",
       " 'complexity',\n",
       " 'growing',\n",
       " 'source',\n",
       " 'non-determinism',\n",
       " 'applications',\n",
       " 'range',\n",
       " 'sensor',\n",
       " 'network',\n",
       " 'large-scale',\n",
       " 'server',\n",
       " 'farm',\n",
       " 'transportation',\n",
       " 'system',\n",
       " 'medicine',\n",
       " 'navigation',\n",
       " 'green',\n",
       " 'brief',\n",
       " 'biosketch',\n",
       " 'research',\n",
       " 'cyber',\n",
       " 'physical',\n",
       " 'computing',\n",
       " 'group',\n",
       " 'papers',\n",
       " 'professional',\n",
       " 'activities',\n",
       " 'teaching',\n",
       " 'example',\n",
       " 'cyber-physical',\n",
       " 'systems',\n",
       " 'operating',\n",
       " 'systems',\n",
       " 'architecture',\n",
       " 'advanced',\n",
       " 'operating',\n",
       " 'systems',\n",
       " 'computer',\n",
       " 'networks',\n",
       " 'deeply',\n",
       " 'embedded',\n",
       " 'networks',\n",
       " 'e-mail',\n",
       " 'letters',\n",
       " 'thank',\n",
       " 'visiting',\n",
       " 'webpage']"
      ]
     },
     "execution_count": 18,
     "metadata": {},
     "output_type": "execute_result"
    }
   ],
   "source": [
    "cleaned_data[0]"
   ]
  },
  {
   "cell_type": "code",
   "execution_count": 19,
   "metadata": {},
   "outputs": [],
   "source": [
    "from gensim import corpora\n",
    "dictionary = corpora.Dictionary(cleaned_data)\n",
    "corpus = [dictionary.doc2bow(line) for line in cleaned_data]\n",
    "\n",
    "import pickle\n",
    "pickle.dump(corpus, open('expert_corpus.pkl', 'wb'))\n",
    "dictionary.save('dictionary.gensim')"
   ]
  },
  {
   "cell_type": "code",
   "execution_count": 20,
   "metadata": {},
   "outputs": [
    {
     "ename": "TypeError",
     "evalue": "__init__() got an unexpected keyword argument 'num_of_topics'",
     "output_type": "error",
     "traceback": [
      "\u001b[0;31m---------------------------------------------------------------------------\u001b[0m",
      "\u001b[0;31mTypeError\u001b[0m                                 Traceback (most recent call last)",
      "\u001b[0;32m<ipython-input-20-3983bede386c>\u001b[0m in \u001b[0;36m<module>\u001b[0;34m\u001b[0m\n\u001b[1;32m      1\u001b[0m \u001b[0;32mimport\u001b[0m \u001b[0mgensim\u001b[0m\u001b[0;34m\u001b[0m\u001b[0;34m\u001b[0m\u001b[0m\n\u001b[1;32m      2\u001b[0m \u001b[0mnum_of_topics\u001b[0m \u001b[0;34m=\u001b[0m \u001b[0;36m10\u001b[0m\u001b[0;34m\u001b[0m\u001b[0;34m\u001b[0m\u001b[0m\n\u001b[0;32m----> 3\u001b[0;31m \u001b[0mlda_topic_model\u001b[0m \u001b[0;34m=\u001b[0m \u001b[0mgensim\u001b[0m\u001b[0;34m.\u001b[0m\u001b[0mmodels\u001b[0m\u001b[0;34m.\u001b[0m\u001b[0mldamodel\u001b[0m\u001b[0;34m.\u001b[0m\u001b[0mLdaModel\u001b[0m\u001b[0;34m(\u001b[0m\u001b[0mcorpus\u001b[0m\u001b[0;34m,\u001b[0m \u001b[0mnum_of_topics\u001b[0m\u001b[0;34m=\u001b[0m\u001b[0mnum_of_topics\u001b[0m\u001b[0;34m,\u001b[0m \u001b[0mid2word\u001b[0m\u001b[0;34m=\u001b[0m\u001b[0mdictionary\u001b[0m\u001b[0;34m,\u001b[0m \u001b[0mpasses\u001b[0m\u001b[0;34m=\u001b[0m\u001b[0;36m20\u001b[0m\u001b[0;34m)\u001b[0m\u001b[0;34m\u001b[0m\u001b[0;34m\u001b[0m\u001b[0m\n\u001b[0m\u001b[1;32m      4\u001b[0m \u001b[0mlda_topic_model\u001b[0m\u001b[0;34m.\u001b[0m\u001b[0msave\u001b[0m\u001b[0;34m(\u001b[0m\u001b[0;34m'expert_topic_model_10.gensim'\u001b[0m\u001b[0;34m)\u001b[0m\u001b[0;34m\u001b[0m\u001b[0;34m\u001b[0m\u001b[0m\n",
      "\u001b[0;31mTypeError\u001b[0m: __init__() got an unexpected keyword argument 'num_of_topics'"
     ]
    }
   ],
   "source": [
    "import gensim\n",
    "num_of_topics = 10\n",
    "lda_topic_model = gensim.models.ldamodel.LdaModel(corpus, num_topics=num_of_topics, id2word=dictionary, passes=20)\n",
    "lda_topic_model.save('expert_topic_model_10.gensim')"
   ]
  },
  {
   "cell_type": "code",
   "execution_count": null,
   "metadata": {},
   "outputs": [],
   "source": []
  }
 ],
 "metadata": {
  "kernelspec": {
   "display_name": "Python 3",
   "language": "python",
   "name": "python3"
  },
  "language_info": {
   "codemirror_mode": {
    "name": "ipython",
    "version": 3
   },
   "file_extension": ".py",
   "mimetype": "text/x-python",
   "name": "python",
   "nbconvert_exporter": "python",
   "pygments_lexer": "ipython3",
   "version": "3.8.5"
  }
 },
 "nbformat": 4,
 "nbformat_minor": 4
}
