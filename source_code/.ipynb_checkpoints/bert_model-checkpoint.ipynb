{
 "cells": [
  {
   "cell_type": "code",
   "execution_count": 3,
   "metadata": {},
   "outputs": [],
   "source": [
    "import pandas as pd"
   ]
  },
  {
   "cell_type": "code",
   "execution_count": 6,
   "metadata": {},
   "outputs": [
    {
     "data": {
      "text/plain": [
       "1931"
      ]
     },
     "execution_count": 6,
     "metadata": {},
     "output_type": "execute_result"
    }
   ],
   "source": [
    "\n",
    "negative_data = []\n",
    "with open('/Users/pushpit/Documents/github/CS410_TIS/ExpertSearch/hari_data/negative.txt', 'r') as f:\n",
    "    for line in f:\n",
    "        data = line.split(\"#####\")\n",
    "        negative_data.append(data[1].strip())\n",
    "\n",
    "len(negative_data)"
   ]
  },
  {
   "cell_type": "code",
   "execution_count": null,
   "metadata": {},
   "outputs": [],
   "source": [
    "positive_data = []\n",
    "with open('/Users/pushpit/Documents/github/CS410_TIS/ExpertSearch/hari_data/positive.txt', 'r') as f:\n",
    "    for line in f:\n",
    "        data = line.split(\"#####\")\n",
    "        positive_data.append(data[1].strip())\n",
    "\n",
    "len(positive_data)"
   ]
  }
 ],
 "metadata": {
  "kernelspec": {
   "display_name": "Python 3",
   "language": "python",
   "name": "python3"
  },
  "language_info": {
   "codemirror_mode": {
    "name": "ipython",
    "version": 3
   },
   "file_extension": ".py",
   "mimetype": "text/x-python",
   "name": "python",
   "nbconvert_exporter": "python",
   "pygments_lexer": "ipython3",
   "version": "3.8.5"
  }
 },
 "nbformat": 4,
 "nbformat_minor": 4
}
